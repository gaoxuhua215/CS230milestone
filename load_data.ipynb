{
 "cells": [
  {
   "cell_type": "code",
   "execution_count": 115,
   "metadata": {},
   "outputs": [],
   "source": [
    "# import packages\n",
    "import numpy\n",
    "import matplotlib \n",
    "import matplotlib.pyplot as plt\n",
    "from pandas import read_csv\n",
    "import math\n",
    "from keras.models import Sequential\n",
    "from keras.layers import Dense\n",
    "from keras.layers import LSTM\n",
    "from sklearn.preprocessing import MinMaxScaler\n",
    "from sklearn.metrics import mean_squared_error"
   ]
  },
  {
   "cell_type": "code",
   "execution_count": 112,
   "metadata": {},
   "outputs": [
    {
     "name": "stdout",
     "output_type": "stream",
     "text": [
      "(719, 2)\n"
     ]
    }
   ],
   "source": [
    "# load the dataset\n",
    "dataframe = read_csv('theoretical_trend.csv')\n",
    "dataset=dataframe.values\n",
    "numpy.random.seed(7)\n",
    "dataset = dataset.astype('float32')\n",
    "print(dataset.shape)"
   ]
  },
  {
   "cell_type": "code",
   "execution_count": null,
   "metadata": {},
   "outputs": [],
   "source": [
    "# plot the dataset\n",
    "plt.plot(dataset[:,0])\n",
    "plt.plot(dataset[:,1])\n",
    "plt.ylabel('sea level(cm)')\n",
    "plt.xlabel('time (hours)')\n",
    "matplotlib.rcParams.update({'font.size': 15})"
   ]
  },
  {
   "cell_type": "code",
   "execution_count": null,
   "metadata": {},
   "outputs": [],
   "source": [
    "# normalize the dataset\n",
    "scaler = MinMaxScaler(feature_range=(0, 1))\n",
    "dataset = scaler.fit_transform(dataset)\n",
    "print(dataset)"
   ]
  },
  {
   "cell_type": "code",
   "execution_count": 67,
   "metadata": {},
   "outputs": [],
   "source": [
    "# split into train and test sets\n",
    "train_size = int(len(dataset) * 0.67)\n",
    "test_size = len(dataset) - train_size\n",
    "train, test = dataset[0:train_size,:], dataset[train_size:len(dataset),:]\n",
    "#print(train)\n",
    "#print(test)\n",
    "trainX=train[:,0]\n",
    "trainY=train[:,1]\n",
    "trainY=numpy.reshape(trainY,(trainY.shape[0],1))\n",
    "testX=test[:,0]\n",
    "testY=test[:,1]\n",
    "testY=numpy.reshape(testY,(testY.shape[0],1))\n",
    "trainX=numpy.reshape(trainX,(trainX.shape[0],1))\n",
    "testX=numpy.reshape(testX,(testX.shape[0],1))"
   ]
  }
 ],
 "metadata": {
  "kernelspec": {
   "display_name": "Python 3",
   "language": "python",
   "name": "python3"
  },
  "language_info": {
   "codemirror_mode": {
    "name": "ipython",
    "version": 3
   },
   "file_extension": ".py",
   "mimetype": "text/x-python",
   "name": "python",
   "nbconvert_exporter": "python",
   "pygments_lexer": "ipython3",
   "version": "3.6.4"
  }
 },
 "nbformat": 4,
 "nbformat_minor": 2
}
